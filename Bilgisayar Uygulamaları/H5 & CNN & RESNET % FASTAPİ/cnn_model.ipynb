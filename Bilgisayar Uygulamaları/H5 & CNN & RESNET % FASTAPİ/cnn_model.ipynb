{
 "cells": [
  {
   "cell_type": "markdown",
   "id": "a393ae08",
   "metadata": {},
   "source": [
    "## CNN MODEL KURULUMU"
   ]
  },
  {
   "cell_type": "code",
   "execution_count": 83,
   "id": "a55aa28d",
   "metadata": {},
   "outputs": [],
   "source": [
    "from pathlib import Path\n",
    "\n",
    "import tensorflow as tf\n",
    "from tensorflow.keras import layers, models\n",
    "\n",
    "import scipy.io\n",
    "import pandas as pd\n",
    "from sklearn.model_selection import train_test_split\n"
   ]
  },
  {
   "cell_type": "code",
   "execution_count": 84,
   "id": "647b3769",
   "metadata": {},
   "outputs": [
    {
     "name": "stdout",
     "output_type": "stream",
     "text": [
      "► Toplam tıbbi hacim dosyası (.mha/.mah): 0\n",
      "► Toplam .mat dosyası:                     6\n",
      "► Toplam fotoğraf dosyası:                  14779\n",
      "\n",
      "Örnek .mha/.mah dosyaları:\n",
      "\n",
      "Örnek .mat dosyaları:\n",
      "  Abyssinian_100.mat\n",
      "  Abyssinian_101.mat\n",
      "  Abyssinian_102.mat\n",
      "  Abyssinian_100.mat\n",
      "  Abyssinian_101.mat\n",
      "\n",
      "Örnek fotoğraf dosyaları:\n",
      "  Abyssinian_1.jpg\n",
      "  Abyssinian_10.jpg\n",
      "  Abyssinian_100.jpg\n",
      "  Abyssinian_101.jpg\n",
      "  Abyssinian_102.jpg\n"
     ]
    }
   ],
   "source": [
    "\n",
    "\n",
    "def collect_dataset_paths(root_dir):\n",
    "\n",
    "    root = Path(root_dir)\n",
    "\n",
    "    volume_paths = []   # .mha, .mah\n",
    "    mat_paths    = []   # .mat\n",
    "    img_paths    = []   # .jpg, .jpeg, .png\n",
    "\n",
    "    # Tüm dosyaları dolaş\n",
    "    for p in root.rglob(\"*\"):\n",
    "        if not p.is_file(): \n",
    "            continue\n",
    "        suf = p.suffix.lower()\n",
    "        if suf in (\".mha\", \".mah\"):\n",
    "            volume_paths.append(p)\n",
    "        elif suf == \".mat\":\n",
    "            mat_paths.append(p)\n",
    "        elif suf in (\".jpg\", \".jpeg\", \".png\"):\n",
    "            img_paths.append(p)\n",
    "\n",
    "    # Sıralama (opsiyonel, deterministik çıktı için)\n",
    "    volume_paths = sorted(volume_paths)\n",
    "    mat_paths    = sorted(mat_paths)\n",
    "    img_paths    = sorted(img_paths)\n",
    "\n",
    "    return volume_paths, mat_paths, img_paths\n",
    "\n",
    "if __name__ == \"__main__\":\n",
    "    root_folder = r\"C:\\Users\\hdgn5\\OneDrive\\Masaüstü\\Bilgisayar Proglamlama\\images\"\n",
    "    volumes, mats, images = collect_dataset_paths(root_folder)\n",
    "\n",
    "    print(f\"► Toplam tıbbi hacim dosyası (.mha/.mah): {len(volumes)}\")\n",
    "    print(f\"► Toplam .mat dosyası:                     {len(mats)}\")\n",
    "    print(f\"► Toplam fotoğraf dosyası:                  {len(images)}\\n\")\n",
    "\n",
    "    print(\"Örnek .mha/.mah dosyaları:\")\n",
    "    for p in volumes[:5]:\n",
    "        print(\" \", p.name)\n",
    "    print(\"\\nÖrnek .mat dosyaları:\")\n",
    "    for p in mats[:5]:\n",
    "        print(\" \", p.name)\n",
    "    print(\"\\nÖrnek fotoğraf dosyaları:\")\n",
    "    for p in images[:5]:\n",
    "        print(\" \", p.name)\n"
   ]
  },
  {
   "cell_type": "code",
   "execution_count": 85,
   "id": "0e3fcb81",
   "metadata": {},
   "outputs": [
    {
     "name": "stdout",
     "output_type": "stream",
     "text": [
      "Inspecting Abyssinian_100.mat:\n",
      "  frames → <class 'numpy.ndarray'> (4, 175288)\n",
      "  binsa → <class 'numpy.ndarray'> (1, 175288)\n"
     ]
    }
   ],
   "source": [
    "import scipy.io\n",
    "from pathlib import Path\n",
    "\n",
    "\n",
    "def inspect_one_mat(mat_path):\n",
    "    data = scipy.io.loadmat(mat_path)\n",
    "    print(f\"Inspecting {mat_path.name}:\")\n",
    "    for k in data.keys():\n",
    "        # MATLAB’in gizli meta anahtarlarını atlayalım\n",
    "        if not k.startswith(\"__\"):\n",
    "            print(\" \", k, \"→\", type(data[k]), data[k].shape if hasattr(data[k], \"shape\") else \"\")\n",
    "    return data\n",
    "\n",
    "if __name__ == \"__main__\":\n",
    "    root = Path(r\"C:\\Users\\hdgn5\\OneDrive\\Masaüstü\\Bilgisayar Proglamlama\\images\")\n",
    "    mats = sorted(root.rglob(\"*.mat\"))\n",
    "    if mats:\n",
    "        inspect_one_mat(mats[0])\n",
    "    else:\n",
    "        print(\"Hiç .mat dosyası bulunamadı.\")\n"
   ]
  },
  {
   "cell_type": "code",
   "execution_count": 86,
   "id": "112803ac",
   "metadata": {},
   "outputs": [
    {
     "name": "stdout",
     "output_type": "stream",
     "text": [
      "label\n",
      "american         800\n",
      "english          800\n",
      "Abyssinian       400\n",
      "basset           400\n",
      "beagle           400\n",
      "Birman           400\n",
      "Bengal           400\n",
      "British          400\n",
      "chihuahua        400\n",
      "Egyptian         400\n",
      "Bombay           400\n",
      "japanese         400\n",
      "german           400\n",
      "great            400\n",
      "havanese         400\n",
      "leonberger       400\n",
      "keeshond         400\n",
      "Maine            400\n",
      "miniature        400\n",
      "samoyed          400\n",
      "newfoundland     400\n",
      "Persian          400\n",
      "pomeranian       400\n",
      "pug              400\n",
      "Ragdoll          400\n",
      "Russian          400\n",
      "saint            400\n",
      "yorkshire        400\n",
      "shiba            400\n",
      "Siamese          400\n",
      "Sphynx           400\n",
      "wheaten          400\n",
      "boxer            399\n",
      "scottish         398\n",
      "staffordshire    382\n",
      "Name: count, dtype: int64\n",
      "                                                path       label\n",
      "0  C:\\Users\\hdgn5\\OneDrive\\Masaüstü\\Bilgisayar Pr...  Abyssinian\n",
      "1  C:\\Users\\hdgn5\\OneDrive\\Masaüstü\\Bilgisayar Pr...  Abyssinian\n",
      "2  C:\\Users\\hdgn5\\OneDrive\\Masaüstü\\Bilgisayar Pr...  Abyssinian\n",
      "3  C:\\Users\\hdgn5\\OneDrive\\Masaüstü\\Bilgisayar Pr...  Abyssinian\n",
      "4  C:\\Users\\hdgn5\\OneDrive\\Masaüstü\\Bilgisayar Pr...  Abyssinian\n"
     ]
    }
   ],
   "source": [
    "import pandas as pd\n",
    "from pathlib import Path\n",
    "\n",
    "def build_image_label_df(img_paths):\n",
    "    \"\"\"\n",
    "    Img dosya adlarından (örneğin 'Abyssinian_123.jpg') \n",
    "    sınıf etiketini ('Abyssinian') çıkartır ve bir DataFrame oluşturur.\n",
    "    \"\"\"\n",
    "    records = []\n",
    "    for p in img_paths:\n",
    "        # stem: 'Abyssinian_123', split('_')[0] → 'Abyssinian'\n",
    "        cls = p.stem.split('_')[0]\n",
    "        records.append({\n",
    "            'path': str(p),\n",
    "            'label': cls\n",
    "        })\n",
    "    return pd.DataFrame.from_records(records)\n",
    "\n",
    "if __name__ == \"__main__\":\n",
    "    root_folder = Path(r\"C:\\Users\\hdgn5\\OneDrive\\Masaüstü\\Bilgisayar Proglamlama\\images\")\n",
    "    # Önceki adımda elde ettiğiniz img_paths listesini buraya alın:\n",
    "    _, _, img_paths = collect_dataset_paths(root_folder)\n",
    "    \n",
    "    df = build_image_label_df(img_paths)\n",
    "    print(df['label'].value_counts())     # Sınıf başına kaç resim var?\n",
    "    print(df.head())\n"
   ]
  },
  {
   "cell_type": "code",
   "execution_count": 87,
   "id": "277af4c7",
   "metadata": {},
   "outputs": [
    {
     "name": "stdout",
     "output_type": "stream",
     "text": [
      "Toplam sınıf sayısı: 35\n"
     ]
    }
   ],
   "source": [
    "num_classes = df['label'].nunique()\n",
    "print(f\"Toplam sınıf sayısı: {num_classes}\")\n"
   ]
  },
  {
   "cell_type": "code",
   "execution_count": 88,
   "id": "cf040753",
   "metadata": {},
   "outputs": [
    {
     "name": "stdout",
     "output_type": "stream",
     "text": [
      "binary_label\n",
      "1    9979\n",
      "0    4800\n",
      "Name: count, dtype: int64\n"
     ]
    }
   ],
   "source": [
    "# 1. Cat vs Dog mapping\n",
    "cat_breeds = {\n",
    "    \"Abyssinian\", \"Birman\", \"Bengal\", \"Bombay\", \"British\",\n",
    "    \"Egyptian\", \"Maine\", \"Persian\",  # yaygın kedi ırkları\n",
    "    \"american\", \"english\"            # dataset’teki 'american', 'english' etiketleri kedi altgrubuna denk geliyor\n",
    "}\n",
    "\n",
    "# (Geriye kalan tüm etiketleri köpek kabul edeceğiz.)\n",
    "\n",
    "# 2. DataFrame’inize binary label ekleme\n",
    "import pandas as pd\n",
    "\n",
    "# Örneğin df, daha önce oluşturduğunuz şöyle bir DataFrame:\n",
    "#    path                                     label\n",
    "# 0  .../Abyssinian_1.jpg                     Abyssinian\n",
    "# 1  .../chihuahua_23.jpg                     chihuahua\n",
    "# ...\n",
    "\n",
    "df[\"binary_label\"] = df[\"label\"].apply(lambda x: 0 if x in cat_breeds else 1)\n",
    "# 0 → kedi, 1 → köpek\n",
    "\n",
    "print(df[\"binary_label\"].value_counts())\n",
    "# Çıktı örneği:\n",
    "#  1    10000   # köpek sayısı\n",
    "#  0     4779   # kedi sayısı\n"
   ]
  },
  {
   "cell_type": "code",
   "execution_count": 89,
   "id": "48c8d2a5",
   "metadata": {},
   "outputs": [],
   "source": [
    "def collect_image_paths(root_dir):\n",
    "    \"\"\"\n",
    "    root_dir içindeki tüm .jpg/.jpeg/.png dosyalarını toplayıp döner.\n",
    "    \"\"\"\n",
    "    root = Path(root_dir)\n",
    "    exts = (\".jpg\", \".jpeg\", \".png\")\n",
    "    img_paths = [p for p in root.rglob(\"*\") if p.suffix.lower() in exts]\n",
    "    return sorted(img_paths)\n"
   ]
  },
  {
   "cell_type": "code",
   "execution_count": 90,
   "id": "55c827f8",
   "metadata": {},
   "outputs": [],
   "source": [
    "def build_df(img_paths):\n",
    "    \"\"\"\n",
    "    Dosya adından (ör. 'Abyssinian_123.jpg') sınıf etiketini\n",
    "    ('Abyssinian') çıkarır.\n",
    "    \"\"\"\n",
    "    records = []\n",
    "    for p in img_paths:\n",
    "        cls = p.stem.split('_')[0]    # dosya adı: 'Breed_###'\n",
    "        records.append({\"path\": str(p), \"label\": cls})\n",
    "    df = pd.DataFrame.from_records(records)\n",
    "    return df"
   ]
  },
  {
   "cell_type": "code",
   "execution_count": 91,
   "id": "0dbec886",
   "metadata": {},
   "outputs": [],
   "source": [
    "def add_binary_label(df):\n",
    "    \"\"\"\n",
    "    Kedi ırklarının kümesini kullanarak 0=kedi, 1=köpek kodunu ekler.\n",
    "    \"\"\"\n",
    "    cat_breeds = {\n",
    "        \"Abyssinian\", \"Birman\", \"Bengal\", \"Bombay\", \"British\",\n",
    "        \"Egyptian\", \"Maine\", \"Persian\",\n",
    "        \"american\", \"english\"\n",
    "    }\n",
    "    df[\"binary_label\"] = df[\"label\"].apply(lambda x: 0 if x in cat_breeds else 1)\n",
    "    return df\n"
   ]
  },
  {
   "cell_type": "code",
   "execution_count": 92,
   "id": "f6702156",
   "metadata": {},
   "outputs": [],
   "source": [
    "def split_df(df, test_size=0.2, random_state=42):\n",
    "    return train_test_split(\n",
    "        df,\n",
    "        test_size=test_size,\n",
    "        stratify=df[\"binary_label\"],\n",
    "        random_state=random_state\n",
    "    )\n"
   ]
  },
  {
   "cell_type": "code",
   "execution_count": 93,
   "id": "ae6eb686",
   "metadata": {},
   "outputs": [],
   "source": [
    "IMG_SIZE = (128, 128)\n",
    "BATCH_SIZE = 32\n",
    "AUTOTUNE = tf.data.AUTOTUNE\n",
    "\n",
    "def load_and_preprocess(path, label):\n",
    "    img = tf.io.read_file(path)\n",
    "    img = tf.image.decode_jpeg(img, channels=3)\n",
    "    img = tf.image.resize(img, IMG_SIZE)\n",
    "    img = img / 255.0\n",
    "\n",
    "    # Burada cast\n",
    "    label = tf.cast(label, tf.int32)\n",
    "    return img, label\n"
   ]
  },
  {
   "cell_type": "code",
   "execution_count": 94,
   "id": "9b22eaf8",
   "metadata": {},
   "outputs": [],
   "source": [
    "def df_to_dataset(df, batch_size=BATCH_SIZE):\n",
    "    paths  = df[\"path\"].values\n",
    "    labels = df[\"binary_label\"].values      # => int64\n",
    "    ds = tf.data.Dataset.from_tensor_slices((paths, labels))\n",
    "    ds = ds.shuffle(len(df))\n",
    "    ds = ds.map(load_and_preprocess, num_parallel_calls=AUTOTUNE)\n",
    "    return ds.batch(batch_size).prefetch(AUTOTUNE)\n"
   ]
  },
  {
   "cell_type": "code",
   "execution_count": 95,
   "id": "53ceb2e4",
   "metadata": {},
   "outputs": [],
   "source": [
    "def build_binary_cnn_functional(\n",
    "    input_shape=(*IMG_SIZE, 3),\n",
    "    conv_filters=(32, 64, 128),\n",
    "    kernel_size=3,\n",
    "    pool_size=2,\n",
    "    dropout_rate=0.5,\n",
    "    fc_units=(256, 128, 64, 32),\n",
    "):\n",
    "    inputs = layers.Input(shape=input_shape)\n",
    "    x = inputs\n",
    "    for f in conv_filters:\n",
    "        x = layers.Conv2D(f, kernel_size, padding=\"same\", activation=\"relu\")(x)\n",
    "        x = layers.MaxPooling2D(pool_size)(x)\n",
    "    x = layers.Flatten()(x)\n",
    "    x = layers.Dropout(dropout_rate)(x)\n",
    "    for units in fc_units:\n",
    "        x = layers.Dense(units, activation=\"relu\")(x)\n",
    "    outputs = layers.Dense(1, activation=\"sigmoid\")(x)\n",
    "    return Model(inputs, outputs, name=\"binary_cnn_functional\")"
   ]
  },
  {
   "cell_type": "code",
   "execution_count": 96,
   "id": "e86dbaf4",
   "metadata": {},
   "outputs": [
    {
     "data": {
      "text/html": [
       "<pre style=\"white-space:pre;overflow-x:auto;line-height:normal;font-family:Menlo,'DejaVu Sans Mono',consolas,'Courier New',monospace\"><span style=\"font-weight: bold\">Model: \"binary_cnn_functional\"</span>\n",
       "</pre>\n"
      ],
      "text/plain": [
       "\u001b[1mModel: \"binary_cnn_functional\"\u001b[0m\n"
      ]
     },
     "metadata": {},
     "output_type": "display_data"
    },
    {
     "data": {
      "text/html": [
       "<pre style=\"white-space:pre;overflow-x:auto;line-height:normal;font-family:Menlo,'DejaVu Sans Mono',consolas,'Courier New',monospace\">┏━━━━━━━━━━━━━━━━━━━━━━━━━━━━━━━━━┳━━━━━━━━━━━━━━━━━━━━━━━━┳━━━━━━━━━━━━━━━┓\n",
       "┃<span style=\"font-weight: bold\"> Layer (type)                    </span>┃<span style=\"font-weight: bold\"> Output Shape           </span>┃<span style=\"font-weight: bold\">       Param # </span>┃\n",
       "┡━━━━━━━━━━━━━━━━━━━━━━━━━━━━━━━━━╇━━━━━━━━━━━━━━━━━━━━━━━━╇━━━━━━━━━━━━━━━┩\n",
       "│ input_layer_4 (<span style=\"color: #0087ff; text-decoration-color: #0087ff\">InputLayer</span>)      │ (<span style=\"color: #00d7ff; text-decoration-color: #00d7ff\">None</span>, <span style=\"color: #00af00; text-decoration-color: #00af00\">128</span>, <span style=\"color: #00af00; text-decoration-color: #00af00\">128</span>, <span style=\"color: #00af00; text-decoration-color: #00af00\">3</span>)    │             <span style=\"color: #00af00; text-decoration-color: #00af00\">0</span> │\n",
       "├─────────────────────────────────┼────────────────────────┼───────────────┤\n",
       "│ conv2d_12 (<span style=\"color: #0087ff; text-decoration-color: #0087ff\">Conv2D</span>)              │ (<span style=\"color: #00d7ff; text-decoration-color: #00d7ff\">None</span>, <span style=\"color: #00af00; text-decoration-color: #00af00\">128</span>, <span style=\"color: #00af00; text-decoration-color: #00af00\">128</span>, <span style=\"color: #00af00; text-decoration-color: #00af00\">32</span>)   │           <span style=\"color: #00af00; text-decoration-color: #00af00\">896</span> │\n",
       "├─────────────────────────────────┼────────────────────────┼───────────────┤\n",
       "│ max_pooling2d_12 (<span style=\"color: #0087ff; text-decoration-color: #0087ff\">MaxPooling2D</span>) │ (<span style=\"color: #00d7ff; text-decoration-color: #00d7ff\">None</span>, <span style=\"color: #00af00; text-decoration-color: #00af00\">64</span>, <span style=\"color: #00af00; text-decoration-color: #00af00\">64</span>, <span style=\"color: #00af00; text-decoration-color: #00af00\">32</span>)     │             <span style=\"color: #00af00; text-decoration-color: #00af00\">0</span> │\n",
       "├─────────────────────────────────┼────────────────────────┼───────────────┤\n",
       "│ conv2d_13 (<span style=\"color: #0087ff; text-decoration-color: #0087ff\">Conv2D</span>)              │ (<span style=\"color: #00d7ff; text-decoration-color: #00d7ff\">None</span>, <span style=\"color: #00af00; text-decoration-color: #00af00\">64</span>, <span style=\"color: #00af00; text-decoration-color: #00af00\">64</span>, <span style=\"color: #00af00; text-decoration-color: #00af00\">64</span>)     │        <span style=\"color: #00af00; text-decoration-color: #00af00\">18,496</span> │\n",
       "├─────────────────────────────────┼────────────────────────┼───────────────┤\n",
       "│ max_pooling2d_13 (<span style=\"color: #0087ff; text-decoration-color: #0087ff\">MaxPooling2D</span>) │ (<span style=\"color: #00d7ff; text-decoration-color: #00d7ff\">None</span>, <span style=\"color: #00af00; text-decoration-color: #00af00\">32</span>, <span style=\"color: #00af00; text-decoration-color: #00af00\">32</span>, <span style=\"color: #00af00; text-decoration-color: #00af00\">64</span>)     │             <span style=\"color: #00af00; text-decoration-color: #00af00\">0</span> │\n",
       "├─────────────────────────────────┼────────────────────────┼───────────────┤\n",
       "│ conv2d_14 (<span style=\"color: #0087ff; text-decoration-color: #0087ff\">Conv2D</span>)              │ (<span style=\"color: #00d7ff; text-decoration-color: #00d7ff\">None</span>, <span style=\"color: #00af00; text-decoration-color: #00af00\">32</span>, <span style=\"color: #00af00; text-decoration-color: #00af00\">32</span>, <span style=\"color: #00af00; text-decoration-color: #00af00\">128</span>)    │        <span style=\"color: #00af00; text-decoration-color: #00af00\">73,856</span> │\n",
       "├─────────────────────────────────┼────────────────────────┼───────────────┤\n",
       "│ max_pooling2d_14 (<span style=\"color: #0087ff; text-decoration-color: #0087ff\">MaxPooling2D</span>) │ (<span style=\"color: #00d7ff; text-decoration-color: #00d7ff\">None</span>, <span style=\"color: #00af00; text-decoration-color: #00af00\">16</span>, <span style=\"color: #00af00; text-decoration-color: #00af00\">16</span>, <span style=\"color: #00af00; text-decoration-color: #00af00\">128</span>)    │             <span style=\"color: #00af00; text-decoration-color: #00af00\">0</span> │\n",
       "├─────────────────────────────────┼────────────────────────┼───────────────┤\n",
       "│ flatten_4 (<span style=\"color: #0087ff; text-decoration-color: #0087ff\">Flatten</span>)             │ (<span style=\"color: #00d7ff; text-decoration-color: #00d7ff\">None</span>, <span style=\"color: #00af00; text-decoration-color: #00af00\">32768</span>)          │             <span style=\"color: #00af00; text-decoration-color: #00af00\">0</span> │\n",
       "├─────────────────────────────────┼────────────────────────┼───────────────┤\n",
       "│ dropout_4 (<span style=\"color: #0087ff; text-decoration-color: #0087ff\">Dropout</span>)             │ (<span style=\"color: #00d7ff; text-decoration-color: #00d7ff\">None</span>, <span style=\"color: #00af00; text-decoration-color: #00af00\">32768</span>)          │             <span style=\"color: #00af00; text-decoration-color: #00af00\">0</span> │\n",
       "├─────────────────────────────────┼────────────────────────┼───────────────┤\n",
       "│ dense_8 (<span style=\"color: #0087ff; text-decoration-color: #0087ff\">Dense</span>)                 │ (<span style=\"color: #00d7ff; text-decoration-color: #00d7ff\">None</span>, <span style=\"color: #00af00; text-decoration-color: #00af00\">256</span>)            │     <span style=\"color: #00af00; text-decoration-color: #00af00\">8,388,864</span> │\n",
       "├─────────────────────────────────┼────────────────────────┼───────────────┤\n",
       "│ dense_9 (<span style=\"color: #0087ff; text-decoration-color: #0087ff\">Dense</span>)                 │ (<span style=\"color: #00d7ff; text-decoration-color: #00d7ff\">None</span>, <span style=\"color: #00af00; text-decoration-color: #00af00\">128</span>)            │        <span style=\"color: #00af00; text-decoration-color: #00af00\">32,896</span> │\n",
       "├─────────────────────────────────┼────────────────────────┼───────────────┤\n",
       "│ dense_10 (<span style=\"color: #0087ff; text-decoration-color: #0087ff\">Dense</span>)                │ (<span style=\"color: #00d7ff; text-decoration-color: #00d7ff\">None</span>, <span style=\"color: #00af00; text-decoration-color: #00af00\">64</span>)             │         <span style=\"color: #00af00; text-decoration-color: #00af00\">8,256</span> │\n",
       "├─────────────────────────────────┼────────────────────────┼───────────────┤\n",
       "│ dense_11 (<span style=\"color: #0087ff; text-decoration-color: #0087ff\">Dense</span>)                │ (<span style=\"color: #00d7ff; text-decoration-color: #00d7ff\">None</span>, <span style=\"color: #00af00; text-decoration-color: #00af00\">32</span>)             │         <span style=\"color: #00af00; text-decoration-color: #00af00\">2,080</span> │\n",
       "├─────────────────────────────────┼────────────────────────┼───────────────┤\n",
       "│ dense_12 (<span style=\"color: #0087ff; text-decoration-color: #0087ff\">Dense</span>)                │ (<span style=\"color: #00d7ff; text-decoration-color: #00d7ff\">None</span>, <span style=\"color: #00af00; text-decoration-color: #00af00\">1</span>)              │            <span style=\"color: #00af00; text-decoration-color: #00af00\">33</span> │\n",
       "└─────────────────────────────────┴────────────────────────┴───────────────┘\n",
       "</pre>\n"
      ],
      "text/plain": [
       "┏━━━━━━━━━━━━━━━━━━━━━━━━━━━━━━━━━┳━━━━━━━━━━━━━━━━━━━━━━━━┳━━━━━━━━━━━━━━━┓\n",
       "┃\u001b[1m \u001b[0m\u001b[1mLayer (type)                   \u001b[0m\u001b[1m \u001b[0m┃\u001b[1m \u001b[0m\u001b[1mOutput Shape          \u001b[0m\u001b[1m \u001b[0m┃\u001b[1m \u001b[0m\u001b[1m      Param #\u001b[0m\u001b[1m \u001b[0m┃\n",
       "┡━━━━━━━━━━━━━━━━━━━━━━━━━━━━━━━━━╇━━━━━━━━━━━━━━━━━━━━━━━━╇━━━━━━━━━━━━━━━┩\n",
       "│ input_layer_4 (\u001b[38;5;33mInputLayer\u001b[0m)      │ (\u001b[38;5;45mNone\u001b[0m, \u001b[38;5;34m128\u001b[0m, \u001b[38;5;34m128\u001b[0m, \u001b[38;5;34m3\u001b[0m)    │             \u001b[38;5;34m0\u001b[0m │\n",
       "├─────────────────────────────────┼────────────────────────┼───────────────┤\n",
       "│ conv2d_12 (\u001b[38;5;33mConv2D\u001b[0m)              │ (\u001b[38;5;45mNone\u001b[0m, \u001b[38;5;34m128\u001b[0m, \u001b[38;5;34m128\u001b[0m, \u001b[38;5;34m32\u001b[0m)   │           \u001b[38;5;34m896\u001b[0m │\n",
       "├─────────────────────────────────┼────────────────────────┼───────────────┤\n",
       "│ max_pooling2d_12 (\u001b[38;5;33mMaxPooling2D\u001b[0m) │ (\u001b[38;5;45mNone\u001b[0m, \u001b[38;5;34m64\u001b[0m, \u001b[38;5;34m64\u001b[0m, \u001b[38;5;34m32\u001b[0m)     │             \u001b[38;5;34m0\u001b[0m │\n",
       "├─────────────────────────────────┼────────────────────────┼───────────────┤\n",
       "│ conv2d_13 (\u001b[38;5;33mConv2D\u001b[0m)              │ (\u001b[38;5;45mNone\u001b[0m, \u001b[38;5;34m64\u001b[0m, \u001b[38;5;34m64\u001b[0m, \u001b[38;5;34m64\u001b[0m)     │        \u001b[38;5;34m18,496\u001b[0m │\n",
       "├─────────────────────────────────┼────────────────────────┼───────────────┤\n",
       "│ max_pooling2d_13 (\u001b[38;5;33mMaxPooling2D\u001b[0m) │ (\u001b[38;5;45mNone\u001b[0m, \u001b[38;5;34m32\u001b[0m, \u001b[38;5;34m32\u001b[0m, \u001b[38;5;34m64\u001b[0m)     │             \u001b[38;5;34m0\u001b[0m │\n",
       "├─────────────────────────────────┼────────────────────────┼───────────────┤\n",
       "│ conv2d_14 (\u001b[38;5;33mConv2D\u001b[0m)              │ (\u001b[38;5;45mNone\u001b[0m, \u001b[38;5;34m32\u001b[0m, \u001b[38;5;34m32\u001b[0m, \u001b[38;5;34m128\u001b[0m)    │        \u001b[38;5;34m73,856\u001b[0m │\n",
       "├─────────────────────────────────┼────────────────────────┼───────────────┤\n",
       "│ max_pooling2d_14 (\u001b[38;5;33mMaxPooling2D\u001b[0m) │ (\u001b[38;5;45mNone\u001b[0m, \u001b[38;5;34m16\u001b[0m, \u001b[38;5;34m16\u001b[0m, \u001b[38;5;34m128\u001b[0m)    │             \u001b[38;5;34m0\u001b[0m │\n",
       "├─────────────────────────────────┼────────────────────────┼───────────────┤\n",
       "│ flatten_4 (\u001b[38;5;33mFlatten\u001b[0m)             │ (\u001b[38;5;45mNone\u001b[0m, \u001b[38;5;34m32768\u001b[0m)          │             \u001b[38;5;34m0\u001b[0m │\n",
       "├─────────────────────────────────┼────────────────────────┼───────────────┤\n",
       "│ dropout_4 (\u001b[38;5;33mDropout\u001b[0m)             │ (\u001b[38;5;45mNone\u001b[0m, \u001b[38;5;34m32768\u001b[0m)          │             \u001b[38;5;34m0\u001b[0m │\n",
       "├─────────────────────────────────┼────────────────────────┼───────────────┤\n",
       "│ dense_8 (\u001b[38;5;33mDense\u001b[0m)                 │ (\u001b[38;5;45mNone\u001b[0m, \u001b[38;5;34m256\u001b[0m)            │     \u001b[38;5;34m8,388,864\u001b[0m │\n",
       "├─────────────────────────────────┼────────────────────────┼───────────────┤\n",
       "│ dense_9 (\u001b[38;5;33mDense\u001b[0m)                 │ (\u001b[38;5;45mNone\u001b[0m, \u001b[38;5;34m128\u001b[0m)            │        \u001b[38;5;34m32,896\u001b[0m │\n",
       "├─────────────────────────────────┼────────────────────────┼───────────────┤\n",
       "│ dense_10 (\u001b[38;5;33mDense\u001b[0m)                │ (\u001b[38;5;45mNone\u001b[0m, \u001b[38;5;34m64\u001b[0m)             │         \u001b[38;5;34m8,256\u001b[0m │\n",
       "├─────────────────────────────────┼────────────────────────┼───────────────┤\n",
       "│ dense_11 (\u001b[38;5;33mDense\u001b[0m)                │ (\u001b[38;5;45mNone\u001b[0m, \u001b[38;5;34m32\u001b[0m)             │         \u001b[38;5;34m2,080\u001b[0m │\n",
       "├─────────────────────────────────┼────────────────────────┼───────────────┤\n",
       "│ dense_12 (\u001b[38;5;33mDense\u001b[0m)                │ (\u001b[38;5;45mNone\u001b[0m, \u001b[38;5;34m1\u001b[0m)              │            \u001b[38;5;34m33\u001b[0m │\n",
       "└─────────────────────────────────┴────────────────────────┴───────────────┘\n"
      ]
     },
     "metadata": {},
     "output_type": "display_data"
    },
    {
     "data": {
      "text/html": [
       "<pre style=\"white-space:pre;overflow-x:auto;line-height:normal;font-family:Menlo,'DejaVu Sans Mono',consolas,'Courier New',monospace\"><span style=\"font-weight: bold\"> Total params: </span><span style=\"color: #00af00; text-decoration-color: #00af00\">8,525,377</span> (32.52 MB)\n",
       "</pre>\n"
      ],
      "text/plain": [
       "\u001b[1m Total params: \u001b[0m\u001b[38;5;34m8,525,377\u001b[0m (32.52 MB)\n"
      ]
     },
     "metadata": {},
     "output_type": "display_data"
    },
    {
     "data": {
      "text/html": [
       "<pre style=\"white-space:pre;overflow-x:auto;line-height:normal;font-family:Menlo,'DejaVu Sans Mono',consolas,'Courier New',monospace\"><span style=\"font-weight: bold\"> Trainable params: </span><span style=\"color: #00af00; text-decoration-color: #00af00\">8,525,377</span> (32.52 MB)\n",
       "</pre>\n"
      ],
      "text/plain": [
       "\u001b[1m Trainable params: \u001b[0m\u001b[38;5;34m8,525,377\u001b[0m (32.52 MB)\n"
      ]
     },
     "metadata": {},
     "output_type": "display_data"
    },
    {
     "data": {
      "text/html": [
       "<pre style=\"white-space:pre;overflow-x:auto;line-height:normal;font-family:Menlo,'DejaVu Sans Mono',consolas,'Courier New',monospace\"><span style=\"font-weight: bold\"> Non-trainable params: </span><span style=\"color: #00af00; text-decoration-color: #00af00\">0</span> (0.00 B)\n",
       "</pre>\n"
      ],
      "text/plain": [
       "\u001b[1m Non-trainable params: \u001b[0m\u001b[38;5;34m0\u001b[0m (0.00 B)\n"
      ]
     },
     "metadata": {},
     "output_type": "display_data"
    },
    {
     "name": "stdout",
     "output_type": "stream",
     "text": [
      "Epoch 1/10\n",
      "\u001b[1m370/370\u001b[0m \u001b[32m━━━━━━━━━━━━━━━━━━━━\u001b[0m\u001b[37m\u001b[0m \u001b[1m194s\u001b[0m 491ms/step - accuracy: 0.6625 - loss: 0.6347 - val_accuracy: 0.7006 - val_loss: 0.5884\n",
      "Epoch 2/10\n",
      "\u001b[1m370/370\u001b[0m \u001b[32m━━━━━━━━━━━━━━━━━━━━\u001b[0m\u001b[37m\u001b[0m \u001b[1m176s\u001b[0m 475ms/step - accuracy: 0.6866 - loss: 0.5936 - val_accuracy: 0.6955 - val_loss: 0.5793\n",
      "Epoch 3/10\n",
      "\u001b[1m370/370\u001b[0m \u001b[32m━━━━━━━━━━━━━━━━━━━━\u001b[0m\u001b[37m\u001b[0m \u001b[1m183s\u001b[0m 495ms/step - accuracy: 0.7181 - loss: 0.5584 - val_accuracy: 0.7304 - val_loss: 0.5486\n",
      "Epoch 4/10\n",
      "\u001b[1m370/370\u001b[0m \u001b[32m━━━━━━━━━━━━━━━━━━━━\u001b[0m\u001b[37m\u001b[0m \u001b[1m202s\u001b[0m 547ms/step - accuracy: 0.7678 - loss: 0.4870 - val_accuracy: 0.7700 - val_loss: 0.4899\n",
      "Epoch 5/10\n",
      "\u001b[1m370/370\u001b[0m \u001b[32m━━━━━━━━━━━━━━━━━━━━\u001b[0m\u001b[37m\u001b[0m \u001b[1m192s\u001b[0m 517ms/step - accuracy: 0.8418 - loss: 0.3702 - val_accuracy: 0.8271 - val_loss: 0.4202\n",
      "Epoch 6/10\n",
      "\u001b[1m370/370\u001b[0m \u001b[32m━━━━━━━━━━━━━━━━━━━━\u001b[0m\u001b[37m\u001b[0m \u001b[1m186s\u001b[0m 501ms/step - accuracy: 0.9012 - loss: 0.2486 - val_accuracy: 0.8826 - val_loss: 0.3200\n",
      "Epoch 7/10\n",
      "\u001b[1m370/370\u001b[0m \u001b[32m━━━━━━━━━━━━━━━━━━━━\u001b[0m\u001b[37m\u001b[0m \u001b[1m194s\u001b[0m 523ms/step - accuracy: 0.9464 - loss: 0.1517 - val_accuracy: 0.9110 - val_loss: 0.2947\n",
      "Epoch 8/10\n",
      "\u001b[1m370/370\u001b[0m \u001b[32m━━━━━━━━━━━━━━━━━━━━\u001b[0m\u001b[37m\u001b[0m \u001b[1m208s\u001b[0m 561ms/step - accuracy: 0.9651 - loss: 0.1038 - val_accuracy: 0.9229 - val_loss: 0.3029\n",
      "Epoch 9/10\n",
      "\u001b[1m370/370\u001b[0m \u001b[32m━━━━━━━━━━━━━━━━━━━━\u001b[0m\u001b[37m\u001b[0m \u001b[1m205s\u001b[0m 552ms/step - accuracy: 0.9790 - loss: 0.0616 - val_accuracy: 0.9374 - val_loss: 0.2836\n",
      "Epoch 10/10\n",
      "\u001b[1m370/370\u001b[0m \u001b[32m━━━━━━━━━━━━━━━━━━━━\u001b[0m\u001b[37m\u001b[0m \u001b[1m207s\u001b[0m 560ms/step - accuracy: 0.9852 - loss: 0.0443 - val_accuracy: 0.9350 - val_loss: 0.3792\n",
      "\u001b[1m93/93\u001b[0m \u001b[32m━━━━━━━━━━━━━━━━━━━━\u001b[0m\u001b[37m\u001b[0m \u001b[1m12s\u001b[0m 130ms/step - accuracy: 0.9302 - loss: 0.3703\n"
     ]
    },
    {
     "name": "stderr",
     "output_type": "stream",
     "text": [
      "WARNING:absl:You are saving your model as an HDF5 file via `model.save()` or `keras.saving.save_model(model)`. This file format is considered legacy. We recommend using instead the native Keras format, e.g. `model.save('my_model.keras')` or `keras.saving.save_model(model, 'my_model.keras')`. \n"
     ]
    },
    {
     "name": "stdout",
     "output_type": "stream",
     "text": [
      "\n",
      "Test Loss: 0.3792, Test Accuracy: 0.9350\n",
      "Model kaydedildi: binary_cnn_functional_256_128_64_32.h5\n"
     ]
    }
   ],
   "source": [
    "# --- 5. Ana akış ---\n",
    "if __name__ == \"__main__\":\n",
    "    root_dir = r\"C:\\Users\\hdgn5\\OneDrive\\Masaüstü\\Bilgisayar Proglamlama\\images\"\n",
    "    img_paths = collect_image_paths(root_dir)\n",
    "    df = build_df(img_paths)\n",
    "    df = add_binary_label(df)\n",
    "    train_df, test_df = split_df(df)\n",
    "\n",
    "    train_ds = df_to_dataset(train_df)\n",
    "    test_ds  = df_to_dataset(test_df)\n",
    "\n",
    "    # Modeli inşa et ve eğit\n",
    "    model = build_binary_cnn_functional()\n",
    "    model.compile(\n",
    "        optimizer=\"adam\",\n",
    "        loss=\"binary_crossentropy\",\n",
    "        metrics=[\"accuracy\"]\n",
    "    )\n",
    "    model.summary()\n",
    "\n",
    "    history = model.fit(\n",
    "        train_ds,\n",
    "        validation_data=test_ds,\n",
    "        epochs=10\n",
    "    )\n",
    "\n",
    "    loss, acc = model.evaluate(test_ds)\n",
    "    print(f\"\\nTest Loss: {loss:.4f}, Test Accuracy: {acc:.4f}\")\n",
    "\n",
    "    # Eğitimin sonunda kaydet\n",
    "    model.save(\"binary_cnn_functional_256_128_64_32.h5\")\n",
    "    print(\"Model kaydedildi: binary_cnn_functional_256_128_64_32.h5\")"
   ]
  }
 ],
 "metadata": {
  "kernelspec": {
   "display_name": "Python 3",
   "language": "python",
   "name": "python3"
  },
  "language_info": {
   "codemirror_mode": {
    "name": "ipython",
    "version": 3
   },
   "file_extension": ".py",
   "mimetype": "text/x-python",
   "name": "python",
   "nbconvert_exporter": "python",
   "pygments_lexer": "ipython3",
   "version": "3.12.10"
  }
 },
 "nbformat": 4,
 "nbformat_minor": 5
}
